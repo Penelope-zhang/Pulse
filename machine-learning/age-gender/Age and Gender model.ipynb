{
 "cells": [
  {
   "cell_type": "markdown",
   "id": "a66f0243",
   "metadata": {},
   "source": [
    "**Import files**"
   ]
  },
  {
   "cell_type": "code",
   "execution_count": 1,
   "id": "08d6cc75",
   "metadata": {},
   "outputs": [],
   "source": [
    "import matplotlib.pyplot as plt\n",
    "import numpy as np\n",
    "import pandas as pd\n",
    "import seaborn as sns\n",
    "import random\n",
    "from tensorflow.keras.callbacks import ModelCheckpoint\n",
    "import os\n",
    "import sklearn\n",
    "from sklearn.tree import export_graphviz\n",
    "from sklearn import metrics\n",
    "from sklearn.model_selection import GridSearchCV\n",
    "from sklearn.model_selection import cross_val_score\n",
    "from sklearn.model_selection import train_test_split\n",
    "from sklearn import preprocessing \n",
    "from sklearn.utils import shuffle\n",
    "from sklearn import svm\n",
    "import csv\n",
    "import cv2\n",
    "import imageio\n",
    "\n",
    "from keras.preprocessing.image import load_img, img_to_array\n",
    "from keras.preprocessing.image import ImageDataGenerator\n",
    "from keras.layers import Dense,Input,Dropout,GlobalAveragePooling2D,Flatten,Conv2D,BatchNormalization,Activation,MaxPooling2D\n",
    "from keras.models import Model,Sequential\n",
    "from tensorflow.keras.optimizers import Adam\n",
    "from tensorflow.keras.utils import to_categorical\n",
    "from PIL import Image, ImageOps"
   ]
  },
  {
   "cell_type": "code",
   "execution_count": 2,
   "id": "1f797963",
   "metadata": {},
   "outputs": [],
   "source": [
    "image_filenames = [i for i in os.listdir('UTKFace/')] "
   ]
  },
  {
   "cell_type": "code",
   "execution_count": 3,
   "id": "4ea4fa5c",
   "metadata": {},
   "outputs": [
    {
     "name": "stdout",
     "output_type": "stream",
     "text": [
      "Processed 1 of 23708 images\n",
      "Processed 10001 of 23708 images\n",
      "Processed 20001 of 23708 images\n"
     ]
    }
   ],
   "source": [
    "ages=[]\n",
    "genders=[]\n",
    "# Iterate throuigh the filenames and for each one load the image, resize and normalise\n",
    "count = len(image_filenames)\n",
    "images=[]\n",
    "for i, image_file in enumerate(image_filenames):\n",
    "        age=image_file.split('_')[0]\n",
    "        gender=image_file.split('_')[1]\n",
    "        image = imageio.imread('UTKFace/'+image_file)\n",
    "        #Resizing images\n",
    "        image = cv2.resize(image, (200,200), interpolation=cv2.INTER_CUBIC)        \n",
    "        if i%10000==0:\n",
    "            print('Processed {} of {} images'.format(i + 1, count))\n",
    "        ages.append(int(age))\n",
    "        genders.append(int(gender))\n",
    "        images.append(image)"
   ]
  },
  {
   "cell_type": "markdown",
   "id": "0bfc7c46",
   "metadata": {},
   "source": [
    "**Add the data to DataFrame**"
   ]
  },
  {
   "cell_type": "code",
   "execution_count": 4,
   "id": "4dbef993",
   "metadata": {},
   "outputs": [
    {
     "data": {
      "text/html": [
       "<div>\n",
       "<style scoped>\n",
       "    .dataframe tbody tr th:only-of-type {\n",
       "        vertical-align: middle;\n",
       "    }\n",
       "\n",
       "    .dataframe tbody tr th {\n",
       "        vertical-align: top;\n",
       "    }\n",
       "\n",
       "    .dataframe thead th {\n",
       "        text-align: right;\n",
       "    }\n",
       "</style>\n",
       "<table border=\"1\" class=\"dataframe\">\n",
       "  <thead>\n",
       "    <tr style=\"text-align: right;\">\n",
       "      <th></th>\n",
       "      <th>Images</th>\n",
       "      <th>Age</th>\n",
       "      <th>Gender</th>\n",
       "    </tr>\n",
       "  </thead>\n",
       "  <tbody>\n",
       "    <tr>\n",
       "      <th>0</th>\n",
       "      <td>[[[215, 206, 201], [213, 204, 199], [212, 203,...</td>\n",
       "      <td>100</td>\n",
       "      <td>0</td>\n",
       "    </tr>\n",
       "    <tr>\n",
       "      <th>1</th>\n",
       "      <td>[[[118, 122, 134], [120, 124, 135], [122, 126,...</td>\n",
       "      <td>100</td>\n",
       "      <td>0</td>\n",
       "    </tr>\n",
       "    <tr>\n",
       "      <th>2</th>\n",
       "      <td>[[[221, 222, 226], [232, 235, 240], [232, 237,...</td>\n",
       "      <td>100</td>\n",
       "      <td>1</td>\n",
       "    </tr>\n",
       "    <tr>\n",
       "      <th>3</th>\n",
       "      <td>[[[78, 82, 93], [78, 82, 93], [78, 82, 93], [7...</td>\n",
       "      <td>100</td>\n",
       "      <td>1</td>\n",
       "    </tr>\n",
       "    <tr>\n",
       "      <th>4</th>\n",
       "      <td>[[[65, 69, 80], [66, 70, 81], [67, 71, 82], [6...</td>\n",
       "      <td>100</td>\n",
       "      <td>1</td>\n",
       "    </tr>\n",
       "  </tbody>\n",
       "</table>\n",
       "</div>"
      ],
      "text/plain": [
       "                                              Images  Age  Gender\n",
       "0  [[[215, 206, 201], [213, 204, 199], [212, 203,...  100       0\n",
       "1  [[[118, 122, 134], [120, 124, 135], [122, 126,...  100       0\n",
       "2  [[[221, 222, 226], [232, 235, 240], [232, 237,...  100       1\n",
       "3  [[[78, 82, 93], [78, 82, 93], [78, 82, 93], [7...  100       1\n",
       "4  [[[65, 69, 80], [66, 70, 81], [67, 71, 82], [6...  100       1"
      ]
     },
     "execution_count": 4,
     "metadata": {},
     "output_type": "execute_result"
    }
   ],
   "source": [
    "#Convert to series\n",
    "images_list = pd.Series(list(images),name='Images')\n",
    "ages_list = pd.Series(list(ages),name='Age')\n",
    "#0 for Male 1 for Female\n",
    "genders_list = pd.Series(list(genders),name='Gender')\n",
    "\n",
    "df = pd.concat([images_list, ages_list, genders_list],axis=1)\n",
    "df.head()"
   ]
  },
  {
   "cell_type": "markdown",
   "id": "af98111a",
   "metadata": {},
   "source": [
    "**Distribution of data**"
   ]
  },
  {
   "cell_type": "code",
   "execution_count": 5,
   "id": "111f2ac8",
   "metadata": {},
   "outputs": [
    {
     "name": "stderr",
     "output_type": "stream",
     "text": [
      "C:\\Users\\MLPUser\\anaconda3\\lib\\site-packages\\seaborn\\_decorators.py:36: FutureWarning: Pass the following variable as a keyword arg: x. From version 0.12, the only valid positional argument will be `data`, and passing other arguments without an explicit keyword will result in an error or misinterpretation.\n",
      "  warnings.warn(\n"
     ]
    },
    {
     "data": {
      "image/png": "[encoded data removed]",
      "text/plain": [
       "<Figure size 432x288 with 1 Axes>"
      ]
     },
     "metadata": {
      "needs_background": "light"
     },
     "output_type": "display_data"
    }
   ],
   "source": [
    "sns.countplot(df['Gender'])\n",
    "labels = [\"Male\", \"Female\"]\n",
    "plt.xticks(range(2),labels)\n",
    "plt.show()"
   ]
  },
  {
   "cell_type": "code",
   "execution_count": 6,
   "id": "2a0ec267",
   "metadata": {},
   "outputs": [
    {
     "data": {
      "text/plain": [
       "<seaborn.axisgrid.FacetGrid at 0x1882986e1f0>"
      ]
     },
     "execution_count": 6,
     "metadata": {},
     "output_type": "execute_result"
    },
    {
     "data": {
      "image/png": "[encoded data removed]",
      "text/plain": [
       "<Figure size 360x360 with 1 Axes>"
      ]
     },
     "metadata": {
      "needs_background": "light"
     },
     "output_type": "display_data"
    }
   ],
   "source": [
    "sns.displot(df['Age'],kde=True,bins=10)"
   ]
  },
  {
   "cell_type": "code",
   "execution_count": 7,
   "id": "f797b17e",
   "metadata": {},
   "outputs": [
    {
     "data": {
      "text/plain": [
       "26    2197\n",
       "1     1123\n",
       "28     918\n",
       "35     880\n",
       "24     859\n",
       "Name: Age, dtype: int64"
      ]
     },
     "execution_count": 7,
     "metadata": {},
     "output_type": "execute_result"
    }
   ],
   "source": [
    "df['Age'].value_counts().head(5)"
   ]
  },
  {
   "cell_type": "markdown",
   "id": "88294d81",
   "metadata": {},
   "source": [
    "It is observed that the age group of 26 has high counts , the model can perform best for this age group ,hence we try to take a small sample out "
   ]
  },
  {
   "cell_type": "code",
   "execution_count": 8,
   "id": "899a318d",
   "metadata": {},
   "outputs": [],
   "source": [
    "midtwentys = []\n",
    "\n",
    "for i in range(len(df)):\n",
    "    if df['Age'].iloc[i] == 26:\n",
    "        midtwentys.append(df.iloc[i])\n",
    "midtwentys = pd.DataFrame(midtwentys)\n",
    "midtwentys = midtwentys.sample(frac=0.3)"
   ]
  },
  {
   "cell_type": "code",
   "execution_count": 9,
   "id": "d0e74b8b",
   "metadata": {},
   "outputs": [
    {
     "data": {
      "text/plain": [
       "659"
      ]
     },
     "execution_count": 9,
     "metadata": {},
     "output_type": "execute_result"
    }
   ],
   "source": [
    "len(midtwentys)"
   ]
  },
  {
   "cell_type": "code",
   "execution_count": 10,
   "id": "4623754e",
   "metadata": {},
   "outputs": [
    {
     "data": {
      "text/plain": [
       "(22170, 3)"
      ]
     },
     "execution_count": 10,
     "metadata": {},
     "output_type": "execute_result"
    }
   ],
   "source": [
    "df = df[df['Age']!=26]\n",
    "df = pd.concat([df, midtwentys], ignore_index = True)\n",
    "df.shape"
   ]
  },
  {
   "cell_type": "code",
   "execution_count": 11,
   "id": "fdcdc846",
   "metadata": {},
   "outputs": [
    {
     "data": {
      "text/plain": [
       "1     1123\n",
       "28     918\n",
       "35     880\n",
       "24     859\n",
       "25     734\n",
       "Name: Age, dtype: int64"
      ]
     },
     "execution_count": 11,
     "metadata": {},
     "output_type": "execute_result"
    }
   ],
   "source": [
    "df['Age'].value_counts().head(5)"
   ]
  },
  {
   "cell_type": "code",
   "execution_count": 12,
   "id": "5dfde194",
   "metadata": {},
   "outputs": [
    {
     "data": {
      "text/plain": [
       "<seaborn.axisgrid.FacetGrid at 0x1883e9fc760>"
      ]
     },
     "execution_count": 12,
     "metadata": {},
     "output_type": "execute_result"
    },
    {
     "data": {
      "image/png": "[encoded data removed]",
      "text/plain": [
       "<Figure size 360x360 with 1 Axes>"
      ]
     },
     "metadata": {
      "needs_background": "light"
     },
     "output_type": "display_data"
    }
   ],
   "source": [
    "sns.displot(df['Age'],kde=True,bins=20)"
   ]
  },
  {
   "cell_type": "markdown",
   "id": "ea4af002",
   "metadata": {},
   "source": [
    "We also see there is a large number of images with 1 year old babies. We can take a sample of those images."
   ]
  },
  {
   "cell_type": "code",
   "execution_count": 13,
   "id": "709c37a8",
   "metadata": {},
   "outputs": [
    {
     "data": {
      "text/plain": [
       "(21496, 3)"
      ]
     },
     "execution_count": 13,
     "metadata": {},
     "output_type": "execute_result"
    }
   ],
   "source": [
    "ageone = []\n",
    "\n",
    "for i in range(len(df)):\n",
    "    if df['Age'].iloc[i] ==1:\n",
    "        ageone.append(df.iloc[i])\n",
    "ageone = pd.DataFrame(ageone)\n",
    "ageone = ageone.sample(frac=0.4)\n",
    "df = df[df['Age']!=1]\n",
    "df = pd.concat([df, ageone], ignore_index = True)\n",
    "df.shape"
   ]
  },
  {
   "cell_type": "code",
   "execution_count": 14,
   "id": "e3015990",
   "metadata": {},
   "outputs": [
    {
     "data": {
      "text/plain": [
       "<seaborn.axisgrid.FacetGrid at 0x1891e352790>"
      ]
     },
     "execution_count": 14,
     "metadata": {},
     "output_type": "execute_result"
    },
    {
     "data": {
      "image/png": "[encoded data removed]",
      "text/plain": [
       "<Figure size 360x360 with 1 Axes>"
      ]
     },
     "metadata": {
      "needs_background": "light"
     },
     "output_type": "display_data"
    }
   ],
   "source": [
    "sns.displot(df['Age'],kde=True,bins=20)"
   ]
  },
  {
   "cell_type": "markdown",
   "id": "08cda91c",
   "metadata": {},
   "source": [
    "**Storing images to an array**"
   ]
  },
  {
   "cell_type": "code",
   "execution_count": 15,
   "id": "02b87b5c",
   "metadata": {},
   "outputs": [],
   "source": [
    "X = []\n",
    "for i in range(len(df)):\n",
    "    img = np.asarray(df['Images'].iloc[i])\n",
    "    X.append(img)\n",
    "X = np.array(X)"
   ]
  },
  {
   "cell_type": "markdown",
   "id": "f7eaf6d7",
   "metadata": {},
   "source": [
    "**Train test split**"
   ]
  },
  {
   "cell_type": "code",
   "execution_count": 16,
   "id": "3f3e18f6",
   "metadata": {},
   "outputs": [],
   "source": [
    "y_age = df['Age']\n",
    "y_gender = df['Gender']\n",
    "\n",
    "x_train_age, x_test_age, y_train_age, y_test_age = train_test_split(X, y_age, test_size=0.2)\n",
    "x_train_gender, x_test_gender, y_train_gender, y_test_gender = train_test_split(X, y_gender, test_size=0.2)"
   ]
  },
  {
   "cell_type": "code",
   "execution_count": 17,
   "id": "8725a34d",
   "metadata": {},
   "outputs": [
    {
     "data": {
      "text/plain": [
       "0    11314\n",
       "1    10182\n",
       "Name: Gender, dtype: int64"
      ]
     },
     "execution_count": 17,
     "metadata": {},
     "output_type": "execute_result"
    }
   ],
   "source": [
    "y_gender.value_counts()"
   ]
  },
  {
   "cell_type": "markdown",
   "id": "98782e11",
   "metadata": {},
   "source": [
    "# Model Creation"
   ]
  },
  {
   "cell_type": "markdown",
   "id": "d9a65b92",
   "metadata": {},
   "source": [
    "**Creating model For Age**"
   ]
  },
  {
   "cell_type": "code",
   "execution_count": 18,
   "id": "25d1e022",
   "metadata": {},
   "outputs": [],
   "source": [
    "agemodel = Sequential()\n",
    "agemodel.add(Conv2D(32, (3,3), activation='relu', input_shape=(200,200, 3)))\n",
    "agemodel.add(MaxPooling2D((2,2)))\n",
    "\n",
    "agemodel.add(Conv2D(64, (3,3), activation='relu'))\n",
    "agemodel.add(MaxPooling2D((2,2)))\n",
    "\n",
    "agemodel.add(Conv2D(128, (3,3), activation='relu'))\n",
    "agemodel.add(MaxPooling2D((2,2)))\n",
    "\n",
    "agemodel.add(Flatten())\n",
    "agemodel.add(Dense(64, activation='relu'))\n",
    "agemodel.add(Dropout(0.5))\n",
    "agemodel.add(Dense(1, activation='relu'))\n",
    "\n",
    "agemodel.compile(loss='mean_squared_error',\n",
    "             optimizer='adam',metrics=['mae'])"
   ]
  },
  {
   "cell_type": "code",
   "execution_count": 19,
   "id": "15e756fc",
   "metadata": {},
   "outputs": [
    {
     "name": "stdout",
     "output_type": "stream",
     "text": [
      "Model: \"sequential\"\n",
      "_________________________________________________________________\n",
      "Layer (type)                 Output Shape              Param #   \n",
      "=================================================================\n",
      "conv2d (Conv2D)              (None, 198, 198, 32)      896       \n",
      "_________________________________________________________________\n",
      "max_pooling2d (MaxPooling2D) (None, 99, 99, 32)        0         \n",
      "_________________________________________________________________\n",
      "conv2d_1 (Conv2D)            (None, 97, 97, 64)        18496     \n",
      "_________________________________________________________________\n",
      "max_pooling2d_1 (MaxPooling2 (None, 48, 48, 64)        0         \n",
      "_________________________________________________________________\n",
      "conv2d_2 (Conv2D)            (None, 46, 46, 128)       73856     \n",
      "_________________________________________________________________\n",
      "max_pooling2d_2 (MaxPooling2 (None, 23, 23, 128)       0         \n",
      "_________________________________________________________________\n",
      "flatten (Flatten)            (None, 67712)             0         \n",
      "_________________________________________________________________\n",
      "dense (Dense)                (None, 64)                4333632   \n",
      "_________________________________________________________________\n",
      "dropout (Dropout)            (None, 64)                0         \n",
      "_________________________________________________________________\n",
      "dense_1 (Dense)              (None, 1)                 65        \n",
      "=================================================================\n",
      "Total params: 4,426,945\n",
      "Trainable params: 4,426,945\n",
      "Non-trainable params: 0\n",
      "_________________________________________________________________\n"
     ]
    }
   ],
   "source": [
    "agemodel.summary()"
   ]
  },
  {
   "cell_type": "markdown",
   "id": "64960a5b",
   "metadata": {},
   "source": [
    "**Creating model for gender**"
   ]
  },
  {
   "cell_type": "code",
   "execution_count": 20,
   "id": "0f66470b",
   "metadata": {},
   "outputs": [],
   "source": [
    "gender_model = Sequential()\n",
    "gender_model.add(Conv2D(32, (3,3), activation='relu', input_shape=(200,200, 3)))\n",
    "gender_model.add(MaxPooling2D((2,2)))\n",
    "\n",
    "gender_model.add(Conv2D(64, (3,3), activation='relu'))\n",
    "gender_model.add(MaxPooling2D((2,2)))\n",
    "\n",
    "gender_model.add(Conv2D(128, (3,3), activation='relu'))\n",
    "gender_model.add(MaxPooling2D((2,2)))\n",
    "\n",
    "gender_model.add(Flatten())\n",
    "gender_model.add(Dense(64, activation='relu'))\n",
    "gender_model.add(Dropout(0.5))\n",
    "\n",
    "gender_model.add(Dense(1, activation='sigmoid'))\n",
    "\n",
    "gender_model.compile(loss='binary_crossentropy',\n",
    "             optimizer='adam',\n",
    "             metrics=['accuracy'])"
   ]
  },
  {
   "cell_type": "markdown",
   "id": "165d463a",
   "metadata": {},
   "source": [
    "**Training Age Model**"
   ]
  },
  {
   "cell_type": "code",
   "execution_count": 20,
   "id": "924eb7bb",
   "metadata": {},
   "outputs": [
    {
     "name": "stdout",
     "output_type": "stream",
     "text": [
      "Epoch 1/40\n",
      "538/538 [==============================] - 285s 503ms/step - loss: 551.5412 - mae: 18.0468 - val_loss: 317.8879 - val_mae: 13.4795\n",
      "Epoch 2/40\n",
      "538/538 [==============================] - 305s 567ms/step - loss: 369.9819 - mae: 14.9203 - val_loss: 250.8355 - val_mae: 11.9234\n",
      "Epoch 3/40\n",
      "538/538 [==============================] - 322s 599ms/step - loss: 306.0519 - mae: 13.5624 - val_loss: 193.6079 - val_mae: 10.6899\n",
      "Epoch 4/40\n",
      "538/538 [==============================] - 282s 524ms/step - loss: 274.9688 - mae: 12.7191 - val_loss: 179.9665 - val_mae: 10.2057\n",
      "Epoch 5/40\n",
      "538/538 [==============================] - 293s 544ms/step - loss: 253.8085 - mae: 12.2500 - val_loss: 169.8459 - val_mae: 9.8406\n",
      "Epoch 6/40\n",
      "538/538 [==============================] - 297s 551ms/step - loss: 237.4701 - mae: 11.8359 - val_loss: 151.3352 - val_mae: 9.2540\n",
      "Epoch 7/40\n",
      "538/538 [==============================] - 285s 530ms/step - loss: 218.9846 - mae: 11.3710 - val_loss: 133.2984 - val_mae: 8.8303\n",
      "Epoch 8/40\n",
      "538/538 [==============================] - 285s 530ms/step - loss: 214.0493 - mae: 11.1425 - val_loss: 129.5258 - val_mae: 8.6586\n",
      "Epoch 9/40\n",
      "538/538 [==============================] - 283s 526ms/step - loss: 208.5197 - mae: 10.9862 - val_loss: 138.8601 - val_mae: 8.8515\n",
      "Epoch 10/40\n",
      "538/538 [==============================] - 282s 523ms/step - loss: 203.6952 - mae: 10.7805 - val_loss: 124.3149 - val_mae: 8.5284\n",
      "Epoch 11/40\n",
      "538/538 [==============================] - 284s 527ms/step - loss: 191.9281 - mae: 10.5751 - val_loss: 119.5277 - val_mae: 8.2391\n",
      "Epoch 12/40\n",
      "538/538 [==============================] - 288s 536ms/step - loss: 198.7165 - mae: 10.6692 - val_loss: 119.8838 - val_mae: 8.1574\n",
      "Epoch 13/40\n",
      "538/538 [==============================] - 293s 544ms/step - loss: 187.2592 - mae: 10.4081 - val_loss: 111.4191 - val_mae: 7.9941\n",
      "Epoch 14/40\n",
      "538/538 [==============================] - 318s 592ms/step - loss: 181.5373 - mae: 10.2298 - val_loss: 110.1557 - val_mae: 7.9104\n",
      "Epoch 15/40\n",
      "538/538 [==============================] - 308s 571ms/step - loss: 180.6722 - mae: 10.1758 - val_loss: 112.9165 - val_mae: 8.0133\n",
      "Epoch 16/40\n",
      "538/538 [==============================] - 309s 574ms/step - loss: 178.0214 - mae: 10.1263 - val_loss: 108.3363 - val_mae: 7.8176\n",
      "Epoch 17/40\n",
      "538/538 [==============================] - 312s 580ms/step - loss: 176.2558 - mae: 10.0604 - val_loss: 154.4554 - val_mae: 9.7077\n",
      "Epoch 18/40\n",
      "538/538 [==============================] - 309s 574ms/step - loss: 170.0371 - mae: 9.8085 - val_loss: 106.6523 - val_mae: 7.7124\n",
      "Epoch 19/40\n",
      "538/538 [==============================] - 311s 577ms/step - loss: 173.8825 - mae: 9.9840 - val_loss: 129.2646 - val_mae: 8.4813\n",
      "Epoch 20/40\n",
      "538/538 [==============================] - 304s 565ms/step - loss: 173.1460 - mae: 9.9505 - val_loss: 103.7239 - val_mae: 7.7535\n",
      "Epoch 21/40\n",
      "538/538 [==============================] - 307s 570ms/step - loss: 164.6345 - mae: 9.7038 - val_loss: 108.2912 - val_mae: 7.7587\n",
      "Epoch 22/40\n",
      "538/538 [==============================] - 305s 566ms/step - loss: 158.9175 - mae: 9.5384 - val_loss: 98.9292 - val_mae: 7.6026\n",
      "Epoch 23/40\n",
      "538/538 [==============================] - 300s 558ms/step - loss: 162.0714 - mae: 9.5793 - val_loss: 98.1868 - val_mae: 7.4527\n",
      "Epoch 24/40\n",
      "538/538 [==============================] - 307s 570ms/step - loss: 160.9806 - mae: 9.5623 - val_loss: 101.1496 - val_mae: 7.6493\n",
      "Epoch 25/40\n",
      "538/538 [==============================] - 305s 567ms/step - loss: 159.2589 - mae: 9.4923 - val_loss: 100.3398 - val_mae: 7.5552\n",
      "Epoch 26/40\n",
      "538/538 [==============================] - 305s 567ms/step - loss: 162.4655 - mae: 9.5736 - val_loss: 108.3219 - val_mae: 7.8610\n",
      "Epoch 27/40\n",
      "538/538 [==============================] - 290s 538ms/step - loss: 157.2113 - mae: 9.4623 - val_loss: 97.2843 - val_mae: 7.5419\n",
      "Epoch 28/40\n",
      "538/538 [==============================] - 287s 532ms/step - loss: 150.6128 - mae: 9.1813 - val_loss: 95.3076 - val_mae: 7.3592\n",
      "Epoch 29/40\n",
      "538/538 [==============================] - 285s 529ms/step - loss: 153.9785 - mae: 9.3802 - val_loss: 99.6193 - val_mae: 7.5354\n",
      "Epoch 30/40\n",
      "538/538 [==============================] - 286s 531ms/step - loss: 151.2301 - mae: 9.2779 - val_loss: 92.0842 - val_mae: 7.3700\n",
      "Epoch 31/40\n",
      "538/538 [==============================] - 292s 543ms/step - loss: 149.2292 - mae: 9.2147 - val_loss: 117.7135 - val_mae: 8.1497\n",
      "Epoch 32/40\n",
      "538/538 [==============================] - 286s 532ms/step - loss: 150.4537 - mae: 9.2551 - val_loss: 110.2302 - val_mae: 7.8749\n",
      "Epoch 33/40\n",
      "538/538 [==============================] - 286s 531ms/step - loss: 144.7619 - mae: 9.1019 - val_loss: 106.8446 - val_mae: 7.7390\n",
      "Epoch 34/40\n",
      "538/538 [==============================] - 290s 538ms/step - loss: 148.0956 - mae: 9.1565 - val_loss: 93.3772 - val_mae: 7.3657\n",
      "Epoch 35/40\n",
      "538/538 [==============================] - 291s 540ms/step - loss: 145.1132 - mae: 9.0949 - val_loss: 102.0534 - val_mae: 7.6382\n",
      "Epoch 36/40\n",
      "538/538 [==============================] - 285s 530ms/step - loss: 147.8546 - mae: 9.1530 - val_loss: 89.3505 - val_mae: 7.2150\n",
      "Epoch 37/40\n",
      "538/538 [==============================] - 285s 530ms/step - loss: 144.0408 - mae: 9.0645 - val_loss: 93.5373 - val_mae: 7.3313\n",
      "Epoch 38/40\n",
      "538/538 [==============================] - 285s 529ms/step - loss: 139.1363 - mae: 8.9283 - val_loss: 92.6655 - val_mae: 7.4813\n",
      "Epoch 39/40\n",
      "538/538 [==============================] - 289s 536ms/step - loss: 142.2433 - mae: 8.9390 - val_loss: 94.1649 - val_mae: 7.3354\n",
      "Epoch 40/40\n",
      "538/538 [==============================] - 290s 538ms/step - loss: 142.4518 - mae: 8.9763 - val_loss: 98.9556 - val_mae: 7.7821\n"
     ]
    }
   ],
   "source": [
    "datagen = ImageDataGenerator(rescale=1./255, width_shift_range = 0.1, height_shift_range = 0.1, horizontal_flip = True)\n",
    "\n",
    "test_datagen = ImageDataGenerator(rescale=1./255)\n",
    "\n",
    "train1 = datagen.flow(x_train_age, y_train_age, batch_size=32)\n",
    "\n",
    "test1 = test_datagen.flow(x_test_age, y_test_age,batch_size=32)\n",
    "\n",
    "historyage = agemodel.fit(train1, epochs=40, shuffle=True, validation_data=test1)"
   ]
  },
  {
   "cell_type": "markdown",
   "id": "338108bb",
   "metadata": {},
   "source": [
    "**Training Gender Model**"
   ]
  },
  {
   "cell_type": "code",
   "execution_count": 22,
   "id": "414aff91",
   "metadata": {},
   "outputs": [
    {
     "name": "stdout",
     "output_type": "stream",
     "text": [
      "Epoch 1/30\n",
      "269/269 [==============================] - 282s 1s/step - loss: 0.7127 - accuracy: 0.6394 - val_loss: 0.4936 - val_accuracy: 0.7565\n",
      "Epoch 2/30\n",
      "269/269 [==============================] - 277s 1s/step - loss: 0.5005 - accuracy: 0.7607 - val_loss: 0.4059 - val_accuracy: 0.8177\n",
      "Epoch 3/30\n",
      "269/269 [==============================] - 277s 1s/step - loss: 0.4583 - accuracy: 0.7827 - val_loss: 0.3935 - val_accuracy: 0.8219\n",
      "Epoch 4/30\n",
      "269/269 [==============================] - 277s 1s/step - loss: 0.4335 - accuracy: 0.8041 - val_loss: 0.3480 - val_accuracy: 0.8456\n",
      "Epoch 5/30\n",
      "269/269 [==============================] - 276s 1s/step - loss: 0.4085 - accuracy: 0.8151 - val_loss: 0.3433 - val_accuracy: 0.8486\n",
      "Epoch 6/30\n",
      "269/269 [==============================] - 276s 1s/step - loss: 0.3840 - accuracy: 0.8293 - val_loss: 0.3318 - val_accuracy: 0.8560\n",
      "Epoch 7/30\n",
      "269/269 [==============================] - 276s 1s/step - loss: 0.3680 - accuracy: 0.8372 - val_loss: 0.3190 - val_accuracy: 0.8542\n",
      "Epoch 8/30\n",
      "269/269 [==============================] - 276s 1s/step - loss: 0.3611 - accuracy: 0.8376 - val_loss: 0.3072 - val_accuracy: 0.8644\n",
      "Epoch 9/30\n",
      "269/269 [==============================] - 276s 1s/step - loss: 0.3510 - accuracy: 0.8447 - val_loss: 0.3067 - val_accuracy: 0.8623\n",
      "Epoch 10/30\n",
      "269/269 [==============================] - 277s 1s/step - loss: 0.3461 - accuracy: 0.8510 - val_loss: 0.3012 - val_accuracy: 0.8684\n",
      "Epoch 11/30\n",
      "269/269 [==============================] - 276s 1s/step - loss: 0.3284 - accuracy: 0.8555 - val_loss: 0.2765 - val_accuracy: 0.8823\n",
      "Epoch 12/30\n",
      "269/269 [==============================] - 276s 1s/step - loss: 0.3221 - accuracy: 0.8598 - val_loss: 0.2874 - val_accuracy: 0.8791\n",
      "Epoch 13/30\n",
      "269/269 [==============================] - 277s 1s/step - loss: 0.3207 - accuracy: 0.8615 - val_loss: 0.2710 - val_accuracy: 0.8821\n",
      "Epoch 14/30\n",
      "269/269 [==============================] - 276s 1s/step - loss: 0.3270 - accuracy: 0.8600 - val_loss: 0.2766 - val_accuracy: 0.8781\n",
      "Epoch 15/30\n",
      "269/269 [==============================] - 276s 1s/step - loss: 0.3130 - accuracy: 0.8580 - val_loss: 0.2954 - val_accuracy: 0.8744\n",
      "Epoch 16/30\n",
      "269/269 [==============================] - 276s 1s/step - loss: 0.3136 - accuracy: 0.8657 - val_loss: 0.2833 - val_accuracy: 0.8798\n",
      "Epoch 17/30\n",
      "269/269 [==============================] - 276s 1s/step - loss: 0.3045 - accuracy: 0.8704 - val_loss: 0.2775 - val_accuracy: 0.8837\n",
      "Epoch 18/30\n",
      "269/269 [==============================] - 276s 1s/step - loss: 0.2959 - accuracy: 0.8752 - val_loss: 0.2630 - val_accuracy: 0.8902\n",
      "Epoch 19/30\n",
      "269/269 [==============================] - 275s 1s/step - loss: 0.2930 - accuracy: 0.8719 - val_loss: 0.2613 - val_accuracy: 0.8898\n",
      "Epoch 20/30\n",
      "269/269 [==============================] - 276s 1s/step - loss: 0.2814 - accuracy: 0.8804 - val_loss: 0.2750 - val_accuracy: 0.8835\n",
      "Epoch 21/30\n",
      "269/269 [==============================] - 276s 1s/step - loss: 0.2796 - accuracy: 0.8810 - val_loss: 0.2559 - val_accuracy: 0.8937\n",
      "Epoch 22/30\n",
      "269/269 [==============================] - 276s 1s/step - loss: 0.2829 - accuracy: 0.8825 - val_loss: 0.2518 - val_accuracy: 0.8912\n",
      "Epoch 23/30\n",
      "269/269 [==============================] - 276s 1s/step - loss: 0.2784 - accuracy: 0.8871 - val_loss: 0.2743 - val_accuracy: 0.8816\n",
      "Epoch 24/30\n",
      "269/269 [==============================] - 276s 1s/step - loss: 0.2795 - accuracy: 0.8836 - val_loss: 0.2618 - val_accuracy: 0.8895\n",
      "Epoch 25/30\n",
      "269/269 [==============================] - 275s 1s/step - loss: 0.2676 - accuracy: 0.8887 - val_loss: 0.2584 - val_accuracy: 0.8974\n",
      "Epoch 26/30\n",
      "269/269 [==============================] - 276s 1s/step - loss: 0.2678 - accuracy: 0.8875 - val_loss: 0.2468 - val_accuracy: 0.9007\n",
      "Epoch 27/30\n",
      "269/269 [==============================] - 276s 1s/step - loss: 0.2716 - accuracy: 0.8891 - val_loss: 0.2607 - val_accuracy: 0.8928\n",
      "Epoch 28/30\n",
      "269/269 [==============================] - 276s 1s/step - loss: 0.2612 - accuracy: 0.8956 - val_loss: 0.2455 - val_accuracy: 0.9065\n",
      "Epoch 29/30\n",
      "269/269 [==============================] - 275s 1s/step - loss: 0.2636 - accuracy: 0.8889 - val_loss: 0.2519 - val_accuracy: 0.8947\n",
      "Epoch 30/30\n",
      "269/269 [==============================] - 275s 1s/step - loss: 0.2555 - accuracy: 0.8916 - val_loss: 0.2454 - val_accuracy: 0.8986\n"
     ]
    }
   ],
   "source": [
    "datagen = ImageDataGenerator(rescale = 1./255,width_shift_range = 0.1, height_shift_range = 0.1, horizontal_flip = True)\n",
    "\n",
    "test_datagen = ImageDataGenerator(rescale=1./255)\n",
    "\n",
    "train2 = datagen.flow(x_train_gender, y_train_gender, batch_size=64)\n",
    "\n",
    "test2 = test_datagen.flow(x_test_gender, y_test_gender,batch_size=64)\n",
    "\n",
    "historygender = gender_model.fit(train2, epochs=30, shuffle=True, validation_data=test2)"
   ]
  },
  {
   "cell_type": "markdown",
   "id": "40d252d7",
   "metadata": {},
   "source": [
    "**Plotting accuracy and loss for gender model**"
   ]
  },
  {
   "cell_type": "code",
   "execution_count": 99,
   "id": "52715a30",
   "metadata": {},
   "outputs": [
    {
     "data": {
      "text/plain": [
       "<matplotlib.legend.Legend at 0x14d8016cbe0>"
      ]
     },
     "execution_count": 99,
     "metadata": {},
     "output_type": "execute_result"
    },
    {
     "data": {
      "image/png": "[encoded data removed]",
      "text/plain": [
       "<Figure size 432x288 with 2 Axes>"
      ]
     },
     "metadata": {
      "needs_background": "light"
     },
     "output_type": "display_data"
    }
   ],
   "source": [
    "plt.subplots_adjust(left=None, bottom=None, right = 2, top=None, wspace=None, hspace=None)\n",
    "plt.subplot(1, 2, 1) # row 1, col 2 index 1\n",
    "loss = historygender.history['loss']\n",
    "val_loss = historygender.history['val_loss']\n",
    "epochs=30\n",
    "plt.xlabel('Epochs')\n",
    "plt.ylabel('Loss')\n",
    "plt.title('Loss')\n",
    "plt.plot(loss, 'blue', label='Training Loss')\n",
    "plt.plot(val_loss, 'green', label='Validation Loss')\n",
    "plt.legend()\n",
    "\n",
    "plt.subplot(1, 2, 2) # index 2\n",
    "plt.plot(historygender.history['accuracy'])\n",
    "plt.plot(historygender.history['val_accuracy'])\n",
    "plt.title('Accuracy')\n",
    "plt.ylabel('accuracy')\n",
    "plt.xlabel('epoch')\n",
    "plt.xticks(range(0,epochs)[0::2])\n",
    "plt.legend(['train', 'validation'], loc='lower right')"
   ]
  },
  {
   "cell_type": "markdown",
   "id": "f2f011ba",
   "metadata": {},
   "source": [
    "**Plotting loss and MAE for age model**"
   ]
  },
  {
   "cell_type": "code",
   "execution_count": 21,
   "id": "853855e1",
   "metadata": {},
   "outputs": [
    {
     "data": {
      "text/plain": [
       "<matplotlib.legend.Legend at 0x18af3a4e8b0>"
      ]
     },
     "execution_count": 21,
     "metadata": {},
     "output_type": "execute_result"
    },
    {
     "data": {
      "image/png": "[encoded data removed]",
      "text/plain": [
       "<Figure size 432x288 with 2 Axes>"
      ]
     },
     "metadata": {
      "needs_background": "light"
     },
     "output_type": "display_data"
    }
   ],
   "source": [
    "plt.subplots_adjust(left=None, bottom=None, right = 2, top=None, wspace=None, hspace=None)\n",
    "plt.subplot(1, 2, 1) # row 1, col 2 index 1\n",
    "loss = historyage.history['loss']\n",
    "val_loss = historyage.history['val_loss']\n",
    "epochs=40\n",
    "plt.xlabel('Epochs')\n",
    "plt.ylabel('Loss')\n",
    "plt.title('Loss')\n",
    "plt.plot(loss, 'blue', label='Training Loss')\n",
    "plt.plot(val_loss, 'green', label='Validation Loss')\n",
    "plt.legend()\n",
    "\n",
    "plt.subplot(1, 2, 2) # index 2\n",
    "plt.plot(historyage.history['mae'])\n",
    "plt.plot(historyage.history['val_mae'])\n",
    "plt.title('Mean Absolute Error')\n",
    "plt.ylabel('Mean Absolute Error')\n",
    "plt.xlabel('Epochs')\n",
    "plt.xticks(range(0,epochs)[0::2])\n",
    "plt.legend(['train', 'validation'], loc='upper right')"
   ]
  },
  {
   "cell_type": "code",
   "execution_count": 26,
   "id": "246d83d0",
   "metadata": {},
   "outputs": [],
   "source": [
    "import tensorflow as tf\n",
    "from keras.models import load_model\n",
    "\n",
    "gender_model.save('gender_model.h5')\n",
    "agemodel.save('age_model.h5')"
   ]
  },
  {
   "cell_type": "markdown",
   "id": "8ad44fe7",
   "metadata": {},
   "source": [
    "**Evaluation of Gender Model**"
   ]
  },
  {
   "cell_type": "code",
   "execution_count": 72,
   "id": "ed988ebc",
   "metadata": {},
   "outputs": [],
   "source": [
    "y_pred_gender = gender_model.predict(x_test_gender)"
   ]
  },
  {
   "cell_type": "code",
   "execution_count": 79,
   "id": "1ec1ac90",
   "metadata": {},
   "outputs": [],
   "source": [
    "y_pred_gender =np.round(y_pred_gender)"
   ]
  },
  {
   "cell_type": "code",
   "execution_count": 80,
   "id": "44c43fec",
   "metadata": {},
   "outputs": [
    {
     "name": "stdout",
     "output_type": "stream",
     "text": [
      "0.851955484475252\n"
     ]
    },
    {
     "data": {
      "image/png": "[encoded data removed]",
      "text/plain": [
       "<Figure size 432x288 with 1 Axes>"
      ]
     },
     "metadata": {
      "needs_background": "light"
     },
     "output_type": "display_data"
    }
   ],
   "source": [
    "from sklearn.metrics import roc_curve, roc_auc_score\n",
    "fpr, tpr, thresholds = roc_curve(y_test_gender, y_pred_gender)\n",
    "auc = roc_auc_score(y_test_gender, y_pred_gender)\n",
    "print(auc)\n",
    "\n",
    "\n",
    "plt.plot(fpr, tpr, color='red', label='ROC')\n",
    "plt.plot([0, 1], [0, 1], color='blue', linestyle='--',label='ROC curve (area = %0.2f)' % auc)\n",
    "plt.xlabel('False Positive Rate')\n",
    "plt.ylabel('True Positive Rate')\n",
    "plt.title('Receiver Operating Characteristic (ROC) Curve')\n",
    "plt.legend()\n",
    "plt.show()"
   ]
  },
  {
   "cell_type": "code",
   "execution_count": 85,
   "id": "14437701",
   "metadata": {},
   "outputs": [
    {
     "name": "stdout",
     "output_type": "stream",
     "text": [
      "              precision    recall  f1-score   support\n",
      "\n",
      "        Male       0.84      0.89      0.87      2291\n",
      "      Female       0.87      0.81      0.84      2009\n",
      "\n",
      "    accuracy                           0.85      4300\n",
      "   macro avg       0.86      0.85      0.85      4300\n",
      "weighted avg       0.86      0.85      0.85      4300\n",
      "\n"
     ]
    }
   ],
   "source": [
    "from sklearn.metrics import classification_report\n",
    "#0 -Male 1-Female\n",
    "print(classification_report(y_test_gender, y_pred_gender,target_names=['Male','Female']))"
   ]
  },
  {
   "cell_type": "code",
   "execution_count": 89,
   "id": "46b3a90f",
   "metadata": {},
   "outputs": [
    {
     "name": "stderr",
     "output_type": "stream",
     "text": [
      "<ipython-input-89-56e71942abb3>:9: UserWarning: Matplotlib is currently using module://ipykernel.pylab.backend_inline, which is a non-GUI backend, so cannot show the figure.\n",
      "  fig.show()\n"
     ]
    },
    {
     "data": {
      "image/png": "[encoded data removed]",
      "text/plain": [
       "<Figure size 432x432 with 1 Axes>"
      ]
     },
     "metadata": {
      "needs_background": "light"
     },
     "output_type": "display_data"
    }
   ],
   "source": [
    "from mlxtend.plotting import plot_confusion_matrix\n",
    "from sklearn.metrics import confusion_matrix\n",
    "conf_mat = confusion_matrix(y_test_gender, y_pred_gender)\n",
    "\n",
    "fig, ax = plot_confusion_matrix(conf_mat=conf_mat,show_normed=True,\n",
    "                                show_absolute=False,\n",
    "                                class_names=['Male','Female'],\n",
    "                                figsize=(6, 6))\n",
    "fig.show()"
   ]
  },
  {
   "cell_type": "code",
   "execution_count": 93,
   "id": "ec68a16f",
   "metadata": {},
   "outputs": [],
   "source": [
    "TN, FP,FN, TP = confusion_matrix(y_test_gender, y_pred_gender).ravel()"
   ]
  },
  {
   "cell_type": "code",
   "execution_count": 94,
   "id": "b09ef052",
   "metadata": {},
   "outputs": [
    {
     "data": {
      "text/plain": [
       "(2046, 245, 380, 1629)"
      ]
     },
     "execution_count": 94,
     "metadata": {},
     "output_type": "execute_result"
    }
   ],
   "source": [
    "(TN, FP,FN, TP)"
   ]
  },
  {
   "cell_type": "code",
   "execution_count": 104,
   "id": "a93ab14f",
   "metadata": {},
   "outputs": [
    {
     "name": "stdout",
     "output_type": "stream",
     "text": [
      "Accuracy %= 85.0\n",
      "True Positive Rate %= 81.0\n",
      "False Positive Rate %= 11.0\n"
     ]
    }
   ],
   "source": [
    "accuracy = (TP+TN)/(TP+FP+FN+TN)\n",
    "TPR = TP / (TP + FN)\n",
    "FPR = FP / (FP + TN)\n",
    "print('Accuracy %=',np.round(accuracy,2)*100)\n",
    "print('True Positive Rate %=',np.round(TPR,2)*100)\n",
    "print('False Positive Rate %=',np.round(FPR,2)*100)"
   ]
  },
  {
   "cell_type": "markdown",
   "id": "98a829f4",
   "metadata": {},
   "source": [
    "**Evaluation for age model**"
   ]
  },
  {
   "cell_type": "code",
   "execution_count": 22,
   "id": "5b5314ad",
   "metadata": {},
   "outputs": [],
   "source": [
    "y_pred_age=[]"
   ]
  },
  {
   "cell_type": "code",
   "execution_count": 23,
   "id": "d770d87c",
   "metadata": {},
   "outputs": [],
   "source": [
    "for i in x_test_age:\n",
    "    i=i/255\n",
    "    i=i.reshape(-1,200,200,3)\n",
    "    y_pred_age.append(int(agemodel.predict(i)))"
   ]
  },
  {
   "cell_type": "code",
   "execution_count": 24,
   "id": "901b05ce",
   "metadata": {},
   "outputs": [],
   "source": [
    "y_pred_age=np.asarray(y_pred_age).astype(int)"
   ]
  },
  {
   "cell_type": "code",
   "execution_count": 25,
   "id": "90b38c3e",
   "metadata": {},
   "outputs": [
    {
     "data": {
      "text/plain": [
       "array([40, 73, 26, ..., 44, 26, 88])"
      ]
     },
     "execution_count": 25,
     "metadata": {},
     "output_type": "execute_result"
    }
   ],
   "source": [
    "y_pred_age"
   ]
  },
  {
   "cell_type": "code",
   "execution_count": 44,
   "id": "ac59ab99",
   "metadata": {},
   "outputs": [
    {
     "name": "stdout",
     "output_type": "stream",
     "text": [
      "MSE= 96.73\n",
      "RMSE= 9.834916440689714\n",
      "Mean Absolute Error 7.662790697674419\n"
     ]
    }
   ],
   "source": [
    "from sklearn.metrics import mean_squared_error,mean_absolute_error\n",
    "from sklearn.metrics import r2_score\n",
    "mse = mean_squared_error(y_test_age, y_pred_age)\n",
    "rmse = mean_squared_error(y_test_age, y_pred_age,squared=False)\n",
    "mae= mean_absolute_error(y_test_age, y_pred_age)\n",
    "print('MSE=',np.round(mse,2))\n",
    "print('RMSE=',rmse)\n",
    "print('Mean Absolute Error',mae)"
   ]
  },
  {
   "cell_type": "code",
   "execution_count": 39,
   "id": "8b68075e",
   "metadata": {},
   "outputs": [
    {
     "data": {
      "image/png": "[encoded data removed]",
      "text/plain": [
       "<Figure size 432x288 with 1 Axes>"
      ]
     },
     "metadata": {
      "needs_background": "light"
     },
     "output_type": "display_data"
    }
   ],
   "source": [
    "fig, ax = plt.subplots()\n",
    "ax.scatter(y_test_age,y_pred_age)\n",
    "ax.set_xlabel('Actual')\n",
    "ax.set_ylabel('Predicted')\n",
    "plt.scatter(y_test_age,y_pred_age,color='gray')\n",
    "ax.set_title('R2: ' + str(r2_score(y_test_age,y_pred_age)))\n",
    "plt.show()"
   ]
  },
  {
   "cell_type": "code",
   "execution_count": null,
   "id": "fc4caccf",
   "metadata": {},
   "outputs": [],
   "source": []
  }
 ],
 "metadata": {
  "kernelspec": {
   "display_name": "Python 3",
   "language": "python",
   "name": "python3"
  },
  "language_info": {
   "codemirror_mode": {
    "name": "ipython",
    "version": 3
   },
   "file_extension": ".py",
   "mimetype": "text/x-python",
   "name": "python",
   "nbconvert_exporter": "python",
   "pygments_lexer": "ipython3",
   "version": "3.8.8"
  }
 },
 "nbformat": 4,
 "nbformat_minor": 5
}
